{
 "cells": [
  {
   "cell_type": "code",
   "execution_count": 2,
   "metadata": {},
   "outputs": [
    {
     "name": "stdout",
     "output_type": "stream",
     "text": [
      "Enter your WRDS username [ruben]:alfgarar\n",
      "Enter your password:········\n",
      "WRDS recommends setting up a .pgpass file.\n",
      "You can find more info here:\n",
      "https://www.postgresql.org/docs/9.5/static/libpq-pgpass.html.\n",
      "Loading library list...\n",
      "Done\n"
     ]
    }
   ],
   "source": [
    "##########################################\n",
    "# Create custom linktable\n",
    "# June 2020\n",
    "##########################################\n",
    "\n",
    "import pandas as pd\n",
    "import numpy as np\n",
    "import datetime as dt\n",
    "import wrds\n",
    "import psycopg2 \n",
    "import matplotlib.pyplot as plt\n",
    "from dateutil.relativedelta import *\n",
    "from pandas.tseries.offsets import *\n",
    "from scipy import stats\n",
    "\n",
    "###################\n",
    "# Connect to WRDS #\n",
    "###################\n",
    "conn=wrds.Connection()"
   ]
  },
  {
   "cell_type": "code",
   "execution_count": 31,
   "metadata": {},
   "outputs": [],
   "source": [
    "###################################################################\n",
    "### Get both CRSP and Compustat data and merge on cusip number\n",
    "###################################################################\n",
    "\n",
    "link_table = conn.raw_sql(\"\"\"\n",
    "                      select distinct a.permno, c.gvkey, c.iid, namedt, nameendt\n",
    "                      from crsp.msf as a,\n",
    "                      crsp.msenames as b,\n",
    "                      comp.security as c\n",
    "                      where a.date between '01/01/1970' and '06/01/2020'\n",
    "                      and a.permno=b.permno\n",
    "                      and a.date between namedt and nameendt\n",
    "                      and b.ncusip=substr(c.cusip,1,8)\n",
    "                      and c.excntry='USA'\n",
    "                      and b.shrcd between 9.9 and 11.9\n",
    "                      \"\"\") "
   ]
  },
  {
   "cell_type": "code",
   "execution_count": 33,
   "metadata": {},
   "outputs": [
    {
     "name": "stdout",
     "output_type": "stream",
     "text": [
      "Shape: (44881, 5)\n"
     ]
    },
    {
     "data": {
      "text/html": [
       "<div>\n",
       "<style scoped>\n",
       "    .dataframe tbody tr th:only-of-type {\n",
       "        vertical-align: middle;\n",
       "    }\n",
       "\n",
       "    .dataframe tbody tr th {\n",
       "        vertical-align: top;\n",
       "    }\n",
       "\n",
       "    .dataframe thead th {\n",
       "        text-align: right;\n",
       "    }\n",
       "</style>\n",
       "<table border=\"1\" class=\"dataframe\">\n",
       "  <thead>\n",
       "    <tr style=\"text-align: right;\">\n",
       "      <th></th>\n",
       "      <th>namedt</th>\n",
       "      <th>nameendt</th>\n",
       "      <th>permno</th>\n",
       "      <th>gvkey_iid</th>\n",
       "    </tr>\n",
       "  </thead>\n",
       "  <tbody>\n",
       "    <tr>\n",
       "      <th>14126</th>\n",
       "      <td>1969-03-24</td>\n",
       "      <td>1970-02-26</td>\n",
       "      <td>44759.0</td>\n",
       "      <td>181780_01</td>\n",
       "    </tr>\n",
       "    <tr>\n",
       "      <th>4387</th>\n",
       "      <td>1968-01-02</td>\n",
       "      <td>1970-03-02</td>\n",
       "      <td>13573.0</td>\n",
       "      <td>266101_01</td>\n",
       "    </tr>\n",
       "    <tr>\n",
       "      <th>12340</th>\n",
       "      <td>1968-01-02</td>\n",
       "      <td>1970-03-13</td>\n",
       "      <td>37444.0</td>\n",
       "      <td>010652_01</td>\n",
       "    </tr>\n",
       "    <tr>\n",
       "      <th>8276</th>\n",
       "      <td>1969-11-18</td>\n",
       "      <td>1970-03-17</td>\n",
       "      <td>20714.0</td>\n",
       "      <td>002301_01</td>\n",
       "    </tr>\n",
       "    <tr>\n",
       "      <th>15307</th>\n",
       "      <td>1969-07-08</td>\n",
       "      <td>1970-03-20</td>\n",
       "      <td>48688.0</td>\n",
       "      <td>002739_01</td>\n",
       "    </tr>\n",
       "    <tr>\n",
       "      <th>...</th>\n",
       "      <td>...</td>\n",
       "      <td>...</td>\n",
       "      <td>...</td>\n",
       "      <td>...</td>\n",
       "    </tr>\n",
       "    <tr>\n",
       "      <th>4746</th>\n",
       "      <td>2019-11-21</td>\n",
       "      <td>2019-12-31</td>\n",
       "      <td>14045.0</td>\n",
       "      <td>024351_01</td>\n",
       "    </tr>\n",
       "    <tr>\n",
       "      <th>4747</th>\n",
       "      <td>2013-07-25</td>\n",
       "      <td>2019-12-31</td>\n",
       "      <td>14046.0</td>\n",
       "      <td>018161_01</td>\n",
       "    </tr>\n",
       "    <tr>\n",
       "      <th>30363</th>\n",
       "      <td>2017-12-12</td>\n",
       "      <td>2019-12-31</td>\n",
       "      <td>80912.0</td>\n",
       "      <td>003806_01</td>\n",
       "    </tr>\n",
       "    <tr>\n",
       "      <th>4807</th>\n",
       "      <td>2013-09-26</td>\n",
       "      <td>2019-12-31</td>\n",
       "      <td>14145.0</td>\n",
       "      <td>018564_01</td>\n",
       "    </tr>\n",
       "    <tr>\n",
       "      <th>44880</th>\n",
       "      <td>2017-02-02</td>\n",
       "      <td>2019-12-31</td>\n",
       "      <td>93436.0</td>\n",
       "      <td>184996_01</td>\n",
       "    </tr>\n",
       "  </tbody>\n",
       "</table>\n",
       "<p>44881 rows × 4 columns</p>\n",
       "</div>"
      ],
      "text/plain": [
       "           namedt    nameendt   permno  gvkey_iid\n",
       "14126  1969-03-24  1970-02-26  44759.0  181780_01\n",
       "4387   1968-01-02  1970-03-02  13573.0  266101_01\n",
       "12340  1968-01-02  1970-03-13  37444.0  010652_01\n",
       "8276   1969-11-18  1970-03-17  20714.0  002301_01\n",
       "15307  1969-07-08  1970-03-20  48688.0  002739_01\n",
       "...           ...         ...      ...        ...\n",
       "4746   2019-11-21  2019-12-31  14045.0  024351_01\n",
       "4747   2013-07-25  2019-12-31  14046.0  018161_01\n",
       "30363  2017-12-12  2019-12-31  80912.0  003806_01\n",
       "4807   2013-09-26  2019-12-31  14145.0  018564_01\n",
       "44880  2017-02-02  2019-12-31  93436.0  184996_01\n",
       "\n",
       "[44881 rows x 4 columns]"
      ]
     },
     "execution_count": 33,
     "metadata": {},
     "output_type": "execute_result"
    }
   ],
   "source": [
    "print('Shape:',link_table.shape)\n",
    "### Make sure the date is within the valid range for the name\n",
    "# link_table = link_table[link_table['date']>=link_table['namedt']]\n",
    "# link_table = link_table[link_table['date']<=link_table['nameendt']]\n",
    "\n",
    "# Convert date to year\n",
    "#link_table['year'] = pd.DatetimeIndex(link_table['date']).year\n",
    "\n",
    "# Get rid of duplicates (months)\n",
    "clean_table = link_table[['permno','gvkey','iid','namedt','nameendt']].drop_duplicates()\n",
    "\n",
    "#### SOME TESTING\n",
    "# clean_table.sort_values(by='comnam')\n",
    "# clean_table.apply(lambda x: len(x.unique()))\n",
    "# pd.pivot_table(clean_table,values='ticker',index='permno', aggfunc=pd.Series.nunique).sort_values(by='ticker')\n",
    "# clean_table[clean_table['permno']==81190]\n",
    "\n",
    "clean_table['gvkey_iid']=clean_table['gvkey']+'_'+clean_table['iid']\n",
    "final_link = clean_table[['namedt','nameendt','permno','gvkey_iid']]\n",
    "final_link.sort_values(by='nameendt')\n",
    "# final_link.apply(lambda x: len(x.unique()))\n",
    "# pd.pivot_table(final_link,values='gvkey_iid',index='permno', aggfunc=pd.Series.nunique).sort_values(by='gvkey_iid')\n",
    "# clean_table[clean_table['permno']==90031]"
   ]
  },
  {
   "cell_type": "code",
   "execution_count": 46,
   "metadata": {},
   "outputs": [
    {
     "data": {
      "image/png": "[encoded data removed]",
      "text/plain": [
       "<Figure size 864x360 with 1 Axes>"
      ]
     },
     "metadata": {
      "needs_background": "light"
     },
     "output_type": "display_data"
    }
   ],
   "source": [
    "stock_count = final_link\n",
    "stock_count['Byear'] = pd.DatetimeIndex(final_link['namedt']).year\n",
    "stock_count['Eyear'] = pd.DatetimeIndex(final_link['nameendt']).year\n",
    "stock_count.head()\n",
    "years = [i for i in range(1950,2020)]\n",
    "counts = []\n",
    "for year in years:\n",
    "    df = stock_count[stock_count['Byear']<=year]\n",
    "    df = df[df['Eyear']>=year]\n",
    "    counts.append(len(df['permno'].unique()))\n",
    "\n",
    "plt.figure(figsize=(12,5))\n",
    "plt.axis([1950,2015,0,8000])\n",
    "plt.plot(years, counts)\n",
    "plt.grid()"
   ]
  },
  {
   "cell_type": "code",
   "execution_count": null,
   "metadata": {},
   "outputs": [],
   "source": []
  }
 ],
 "metadata": {
  "kernelspec": {
   "display_name": "Python 3",
   "language": "python",
   "name": "python3"
  },
  "language_info": {
   "codemirror_mode": {
    "name": "ipython",
    "version": 3
   },
   "file_extension": ".py",
   "mimetype": "text/x-python",
   "name": "python",
   "nbconvert_exporter": "python",
   "pygments_lexer": "ipython3",
   "version": "3.7.6"
  }
 },
 "nbformat": 4,
 "nbformat_minor": 4
}
